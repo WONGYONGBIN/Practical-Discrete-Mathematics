{
  "cells": [
    {
      "cell_type": "markdown",
      "metadata": {
        "id": "wA7I7KPmVj0P"
      },
      "source": [
        "# Chapter 1 - Introduction: Key Concepts, Notation, Set Theory, Relations, and Functions\n",
        "\n",
        "This notebook contains code accompanying Chapter 1 Introduction: Key Concepts, Notation, Set Theory, Relations, and Functions in *Practical Discrete Mathematics* by Ryan T. White and Archana Tikayat Ray\n",
        "\n",
        "## Functions and Relations\n",
        "\n",
        "### The `sort()` function"
      ]
    },
    {
      "cell_type": "code",
      "source": [
        "# Define the truth values\n",
        "truth_values = [True, False]\n",
        "\n",
        "# Print the header\n",
        "print(\"A\\tB\\tNA\\tNB\\tA AND B\\tA OR B\")\n",
        "\n",
        "# Generate the truth table\n",
        "for A in truth_values:\n",
        "    for B in truth_values:\n",
        "        NA = not A\n",
        "        NB = not B\n",
        "        and_result = A and B\n",
        "        or_result = A or B\n",
        "        print(f\"{A}\\t{B}\\t{NA}\\t{NB}\\t{and_result}\\t{or_result}\")\n"
      ],
      "metadata": {
        "id": "UysHoPvLdBOC",
        "outputId": "a6d0ead2-acfa-4571-b06f-2e165b4a3888",
        "colab": {
          "base_uri": "https://localhost:8080/"
        }
      },
      "execution_count": 17,
      "outputs": [
        {
          "output_type": "stream",
          "name": "stdout",
          "text": [
            "A\tB\tNA\tNB\tA AND B\tA OR B\n",
            "True\tTrue\tFalse\tFalse\tTrue\tTrue\n",
            "True\tFalse\tFalse\tTrue\tFalse\tTrue\n",
            "False\tTrue\tTrue\tFalse\tFalse\tTrue\n",
            "False\tFalse\tTrue\tTrue\tFalse\tFalse\n"
          ]
        }
      ]
    },
    {
      "cell_type": "code",
      "source": [
        "user_name = input(\"What is your name? \")\n",
        "print(f\"Hello, {user_name}! Welcome to collab\")"
      ],
      "metadata": {
        "id": "MHE9kDcKVlFJ",
        "outputId": "74e1bf4c-39a6-4660-f3b3-aaa66d316c41",
        "colab": {
          "base_uri": "https://localhost:8080/"
        }
      },
      "execution_count": 3,
      "outputs": [
        {
          "output_type": "stream",
          "name": "stdout",
          "text": [
            "What is your name? Fuck me\n",
            "Hello, Fuck me! Welcome to collab\n"
          ]
        }
      ]
    },
    {
      "cell_type": "code",
      "execution_count": 7,
      "metadata": {
        "id": "OqSoT60HVj0R",
        "outputId": "bf063147-ae4c-4f84-c60f-132871fa84b0",
        "colab": {
          "base_uri": "https://localhost:8080/"
        }
      },
      "outputs": [
        {
          "output_type": "stream",
          "name": "stdout",
          "text": [
            "The number and name after sorting is \n",
            " [1, 2, 3, 4, 5, 8, 9, 12]  and \n",
            " ['Brandon', 'Elise', 'Eugene', 'Kumar', 'Wyatt']\n"
          ]
        }
      ],
      "source": [
        "numbers = [3, 1, 4, 12, 8, 5, 2, 9]\n",
        "names = ['Wyatt', 'Brandon', 'Kumar', 'Eugene', 'Elise']\n",
        "\n",
        "# Apply the sort() function to the lists\n",
        "numbers.sort()\n",
        "names.sort()\n",
        "\n",
        "# Display the output\n",
        "print(f\"The number and name after sorting is \\n {numbers}  and \\n {names}\")"
      ]
    },
    {
      "cell_type": "markdown",
      "metadata": {
        "id": "jTjb0TGxVj0S"
      },
      "source": [
        "### The `shuffle()` function"
      ]
    },
    {
      "cell_type": "code",
      "execution_count": null,
      "metadata": {
        "id": "3HcWOcQmVj0T",
        "outputId": "906d5e19-ede1-4a9a-d1d9-70dae4cd3fbe"
      },
      "outputs": [
        {
          "name": "stdout",
          "output_type": "stream",
          "text": [
            "[12, 2, 1, 5, 9, 3, 8, 4]\n",
            "[4, 2, 8, 3, 1, 12, 5, 9]\n",
            "[4, 5, 1, 9, 3, 8, 12, 2]\n",
            "[9, 12, 2, 8, 5, 3, 4, 1]\n",
            "[9, 8, 4, 3, 12, 1, 5, 2]\n"
          ]
        }
      ],
      "source": [
        "import random\n",
        "\n",
        "# Set a random seed so the code is reproducible\n",
        "random.seed(1)\n",
        "\n",
        "# Run the random.shuffle() function 5 times and display the outputs\n",
        "for i in range(0,5):\n",
        "    numbers = [3, 1, 4, 12, 8, 5, 2, 9]\n",
        "    random.shuffle(numbers)\n",
        "    print(numbers)"
      ]
    }
  ],
  "metadata": {
    "kernelspec": {
      "display_name": "Python 3.7 (DL)",
      "language": "python",
      "name": "dl"
    },
    "language_info": {
      "codemirror_mode": {
        "name": "ipython",
        "version": 3
      },
      "file_extension": ".py",
      "mimetype": "text/x-python",
      "name": "python",
      "nbconvert_exporter": "python",
      "pygments_lexer": "ipython3",
      "version": "3.7.7"
    },
    "colab": {
      "provenance": []
    }
  },
  "nbformat": 4,
  "nbformat_minor": 0
}