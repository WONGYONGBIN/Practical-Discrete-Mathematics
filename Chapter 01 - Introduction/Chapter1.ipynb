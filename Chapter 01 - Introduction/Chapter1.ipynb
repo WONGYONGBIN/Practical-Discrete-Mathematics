{
  "cells": [
    {
      "cell_type": "markdown",
      "metadata": {
        "id": "kRMK0MJpXXlu"
      },
      "source": [
        "# Chapter 1 - Introduction: Key Concepts, Notation, Set Theory, Relations, and Functions\n",
        "\n",
        "This notebook contains code accompanying Chapter 1 Introduction: Key Concepts, Notation, Set Theory, Relations, and Functions in *Practical Discrete Mathematics* by Ryan T. White and Archana Tikayat Ray\n",
        "\n",
        "## Functions and Relations\n",
        "\n",
        "### The `sort()` function"
      ]
    },
    {
      "cell_type": "code",
      "execution_count": 3,
      "metadata": {
        "id": "LDDhQ09OXXlw",
        "outputId": "3eb9ba4d-a009-4f6d-a31e-1e14668c17d7",
        "colab": {
          "base_uri": "https://localhost:8080/"
        }
      },
      "outputs": [
        {
          "output_type": "stream",
          "name": "stdout",
          "text": [
            "[1, 2, 3, 4, 5, 8, 9, 12, 31, 432]\n",
            "['Brandon', 'Elise', 'Eugene', 'Kumar', 'Wyatt', 'yuyg']\n"
          ]
        }
      ],
      "source": [
        "numbers = [3, 1, 4, 12, 8, 5, 2, 9, 432, 31]\n",
        "names = ['Wyatt', 'Brandon', 'Kumar', 'Eugene', 'Elise', 'yuyg']\n",
        "\n",
        "# Apply the sort() function to the lists\n",
        "numbers.sort()\n",
        "names.sort()\n",
        "\n",
        "# Display the output\n",
        "print(numbers)\n",
        "print(names)"
      ]
    },
    {
      "cell_type": "markdown",
      "metadata": {
        "id": "Y3nTm_iYXXlx"
      },
      "source": [
        "### The `shuffle()` function"
      ]
    },
    {
      "cell_type": "code",
      "execution_count": 54,
      "metadata": {
        "id": "Iwsk24fCXXly",
        "outputId": "3c9b6b5a-16a3-449f-b790-4f99c9a80cff",
        "colab": {
          "base_uri": "https://localhost:8080/"
        }
      },
      "outputs": [
        {
          "output_type": "stream",
          "name": "stdout",
          "text": [
            "[2, 9, 5, 8, 23, 54, 1, 21, 12, 656, 3, 4]\n",
            "[9, 3, 23, 5, 12, 656, 4, 21, 2, 8, 54, 1]\n",
            "[54, 2, 23, 3, 4, 12, 1, 9, 5, 21, 8, 656]\n",
            "[54, 2, 4, 3, 1, 5, 8, 656, 9, 23, 12, 21]\n",
            "[1, 3, 2, 4, 21, 9, 656, 23, 8, 5, 54, 12]\n"
          ]
        }
      ],
      "source": [
        "import random\n",
        "\n",
        "# Set a random seed so the code is reproducible\n",
        "random.seed(143)\n",
        "\n",
        "# Run the random.shuffle() function 5 times and display the outputs\n",
        "for i in range(0,5):\n",
        "    numbers = [3, 1, 4, 12, 8, 5, 2, 9,23,54,656,21]\n",
        "    random.shuffle(numbers)\n",
        "    print(numbers)"
      ]
    },
    {
      "cell_type": "code",
      "source": [
        "name = 'Wong Yong Bin'\n",
        "number = len(name)\n",
        "print(str(number))"
      ],
      "metadata": {
        "id": "nYTBF7m2gkoB",
        "outputId": "873bf2d0-b5ba-4ebc-e18e-eb261d10e20a",
        "colab": {
          "base_uri": "https://localhost:8080/"
        }
      },
      "execution_count": 57,
      "outputs": [
        {
          "output_type": "stream",
          "name": "stdout",
          "text": [
            "13\n"
          ]
        }
      ]
    },
    {
      "cell_type": "code",
      "source": [
        "numbers = [3, 1, 4, 12, 8, 5, 2, 9, 432, 31]\n",
        "names = ['Wyatt', 'Brandon', 'Kumar', 'Eugene', 'Elise', 'yuyg']\n",
        "\n",
        "# Apply the sort() function to the lists\n",
        "numbers.sort(reverse=True)\n",
        "names.sort(reverse=True)\n",
        "\n",
        "# Display the output\n",
        "print(numbers)\n",
        "print(names)"
      ],
      "metadata": {
        "id": "aU-9Wfhceonp",
        "outputId": "e2170633-bb7c-4e0a-e845-909a73d51c84",
        "colab": {
          "base_uri": "https://localhost:8080/"
        }
      },
      "execution_count": 43,
      "outputs": [
        {
          "output_type": "stream",
          "name": "stdout",
          "text": [
            "[432, 31, 12, 9, 8, 5, 4, 3, 2, 1]\n",
            "['yuyg', 'Wyatt', 'Kumar', 'Eugene', 'Elise', 'Brandon']\n"
          ]
        }
      ]
    }
  ],
  "metadata": {
    "kernelspec": {
      "display_name": "Python 3",
      "name": "python3"
    },
    "language_info": {
      "name": "python"
    },
    "colab": {
      "provenance": []
    }
  },
  "nbformat": 4,
  "nbformat_minor": 0
}