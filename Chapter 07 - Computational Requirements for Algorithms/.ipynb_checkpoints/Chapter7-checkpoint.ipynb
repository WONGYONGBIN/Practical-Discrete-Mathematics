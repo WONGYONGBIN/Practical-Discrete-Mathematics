{
  "cells": [
    {
      "cell_type": "markdown",
      "metadata": {
        "id": "pSUpjYLOeeqO"
      },
      "source": [
        "# Chapter 7 - Computational Requirements for Algorithms\n",
        "\n",
        "This notebook contains code accompanying Chapter 7 Computational Requirements for Algorithms in *Practical Discrete Mathematics* by Ryan T. White and Archana Tikayat Ray.\n",
        "\n",
        "## Computational complexity of algorithms\n",
        "\n",
        "### Example: A simple algorithm"
      ]
    },
    {
      "cell_type": "code",
      "execution_count": null,
      "metadata": {
        "id": "gPzAoDKReeqQ",
        "outputId": "1429a07a-309b-4563-a8ac-06dd052f6f0f"
      },
      "outputs": [
        {
          "name": "stdin",
          "output_type": "stream",
          "text": [
            "Please enter a fruit name:  Apple\n"
          ]
        },
        {
          "name": "stdout",
          "output_type": "stream",
          "text": [
            "The updated list is: ['Jackfruit', 'Honeydew', 'Grapes', 'Apple']\n"
          ]
        },
        {
          "name": "stdin",
          "output_type": "stream",
          "text": [
            "Please enter the name of the fruit you want to delete:  Apple\n"
          ]
        },
        {
          "name": "stdout",
          "output_type": "stream",
          "text": [
            "The updated list is: ['Jackfruit', 'Honeydew', 'Grapes']\n"
          ]
        }
      ],
      "source": [
        "#Type of algorithm - inserting new element to pre-existing list\n",
        "fruit_name = [\"Jackfruit\", \"Honeydew\", \"Grapes\"]\n",
        "user_input1 = input(\"Please enter a fruit name: \")\n",
        "fruit_name.append(user_input1)\n",
        "print('The updated list is: ' + str(fruit_name))\n",
        "\n",
        "#Type of algorithm - deleting element from list\n",
        "user_input2 = input(\"Please enter the name of the fruit you want to delete: \")\n",
        "fruit_name.remove(user_input2)\n",
        "print('The updated list is: ' + str(fruit_name))\n",
        "\n",
        "\n"
      ]
    },
    {
      "cell_type": "code",
      "source": [
        "fruit_name = [\"jackfruit\", \"honeydew\", \"grapes\"];\n",
        "user_input1 = input(\"Please enter a fruit name: \");\n",
        "fruit = str(user_input1);\n",
        "if fruit in fruit_name:\n",
        "    fruit_name.remove(fruit)\n",
        "    print('The updated list is:', fruit_name);\n",
        "else:\n",
        "    print('The list is remained:', fruit_name);\n",
        "\n",
        "\n",
        "\n",
        "\n"
      ],
      "metadata": {
        "id": "4j6HiQ1Qha1j"
      },
      "execution_count": null,
      "outputs": []
    },
    {
      "cell_type": "code",
      "source": [
        "for i in range (len(fruits)):\n",
        "  for j in range (len(fruit_name)):\n",
        "    if fruits[i] == fruit_name[j]:\n",
        "      print(\"True\", end=' ')\n",
        "    else:\n",
        "      print(\"False\", end=' ')\n",
        "  print()"
      ],
      "metadata": {
        "id": "-JkaSJ1PkDC4"
      },
      "execution_count": null,
      "outputs": []
    },
    {
      "cell_type": "markdown",
      "metadata": {
        "id": "NvTO2PYzeeqR"
      },
      "source": [
        "### Example: Execution Time"
      ]
    },
    {
      "cell_type": "code",
      "execution_count": null,
      "metadata": {
        "id": "Y9LC2JtQeeqR",
        "outputId": "de0d9b5b-83db-449b-edae-99a2473295be"
      },
      "outputs": [
        {
          "name": "stdin",
          "output_type": "stream",
          "text": [
            "Please input a number of your choice:  1\n"
          ]
        },
        {
          "name": "stdout",
          "output_type": "stream",
          "text": [
            "Yes No No No No No No No \n",
            "The time elapsed for this computation is: 0.3815207999999757seconds\n"
          ]
        }
      ],
      "source": [
        "# a is a list containing some numbers\n",
        "# We will compare the number input by user with the numbers in this list\n",
        "import timeit\n",
        "tic=timeit.default_timer()\n",
        "\n",
        "a=[1,2,3,4,5,6,7,8]\n",
        "\n",
        "INPUT = input(\"Please input a number of your choice: \")\n",
        "number = int(INPUT)\n",
        "\n",
        "for i in range(len(a)):\n",
        "    if a[i]== number:\n",
        "        print(\"Yes\", end=' ')\n",
        "    else:\n",
        "        print(\"No\", end=' ')\n",
        "\n",
        "print()\n",
        "\n",
        "toc=timeit.default_timer()\n",
        "time_elapsed = toc - tic\n",
        "\n",
        "print(\"The time elapsed for this computation is: \" + str(time_elapsed) + \"seconds\")"
      ]
    },
    {
      "cell_type": "markdown",
      "metadata": {
        "id": "HculW_UYeeqR"
      },
      "source": [
        "## Understanding Big-O Notation\n",
        "\n",
        "### Constant complexity O(constant)"
      ]
    },
    {
      "cell_type": "code",
      "execution_count": null,
      "metadata": {
        "id": "pKptNz8veeqS",
        "outputId": "4ed767a5-7d92-437d-b83c-7360568d15a1"
      },
      "outputs": [
        {
          "name": "stdout",
          "output_type": "stream",
          "text": [
            "The end result after running the algorithm is:8\n"
          ]
        }
      ],
      "source": [
        "#Constant complexity function\n",
        "def constant_complexity(list):\n",
        "    output = list[1] * list[1] * list[1]\n",
        "    print(\"The end result after running the algorithm is:\" + str(output))\n",
        "\n",
        "constant_complexity([1,2,3,4,5,6,7])"
      ]
    },
    {
      "cell_type": "markdown",
      "metadata": {
        "id": "kTczz8I3eeqS"
      },
      "source": [
        "### Linear complexity $O(n)$"
      ]
    },
    {
      "cell_type": "code",
      "execution_count": null,
      "metadata": {
        "id": "5G7uMlQfeeqS",
        "outputId": "ed88ebc3-5153-41a3-a4bf-d0451ebf5982"
      },
      "outputs": [
        {
          "name": "stdout",
          "output_type": "stream",
          "text": [
            "Iteration number 1\n",
            "Iteration number 2\n",
            "Iteration number 3\n",
            "Iteration number 4\n",
            "Iteration number 5\n",
            "Iteration number 6\n",
            "Iteration number 7\n"
          ]
        }
      ],
      "source": [
        "# Linear complexity\n",
        "def linear_complexity(list):\n",
        "    for i in list:\n",
        "        print(\"Iteration number \" + str(i))\n",
        "\n",
        "linear_complexity([1,2,3,4,5,6,7])"
      ]
    },
    {
      "cell_type": "markdown",
      "metadata": {
        "id": "fvaNXjTMeeqT"
      },
      "source": [
        "### Quadratic complexity $O(n^2)$"
      ]
    },
    {
      "cell_type": "code",
      "execution_count": null,
      "metadata": {
        "id": "jC_bg5xdeeqT",
        "outputId": "19e9795e-dbab-4b12-d47a-b9b6103927db"
      },
      "outputs": [
        {
          "name": "stdout",
          "output_type": "stream",
          "text": [
            "1\t|First for loop iteration: 1 \t| Second for loop iteration:1\n",
            "2\t|First for loop iteration: 1 \t| Second for loop iteration:2\n",
            "3\t|First for loop iteration: 1 \t| Second for loop iteration:3\n",
            "4\t|First for loop iteration: 1 \t| Second for loop iteration:4\n",
            "5\t|First for loop iteration: 2 \t| Second for loop iteration:1\n",
            "6\t|First for loop iteration: 2 \t| Second for loop iteration:2\n",
            "7\t|First for loop iteration: 2 \t| Second for loop iteration:3\n",
            "8\t|First for loop iteration: 2 \t| Second for loop iteration:4\n",
            "9\t|First for loop iteration: 3 \t| Second for loop iteration:1\n",
            "10\t|First for loop iteration: 3 \t| Second for loop iteration:2\n",
            "11\t|First for loop iteration: 3 \t| Second for loop iteration:3\n",
            "12\t|First for loop iteration: 3 \t| Second for loop iteration:4\n",
            "13\t|First for loop iteration: 4 \t| Second for loop iteration:1\n",
            "14\t|First for loop iteration: 4 \t| Second for loop iteration:2\n",
            "15\t|First for loop iteration: 4 \t| Second for loop iteration:3\n",
            "16\t|First for loop iteration: 4 \t| Second for loop iteration:4\n"
          ]
        }
      ],
      "source": [
        "#Quadratic complexity\n",
        "def quadratic_complexity(list):\n",
        "    count = 0\n",
        "    for i in list:\n",
        "        for j in list:\n",
        "            count += 1\n",
        "            print(str(count) + \"\\t|First for loop iteration: \" + str(i), '\\t|', \"Second for loop iteration:\" + str(j))\n",
        "\n",
        "quadratic_complexity([1,2,3,4])"
      ]
    },
    {
      "cell_type": "markdown",
      "metadata": {
        "id": "Py3IhIOdeeqT"
      },
      "source": [
        "### Complexity of complex functions"
      ]
    },
    {
      "cell_type": "code",
      "execution_count": null,
      "metadata": {
        "id": "2mVLSXC7eeqT",
        "outputId": "25dd895b-be91-4971-9bed-935922f7f084"
      },
      "outputs": [
        {
          "name": "stdout",
          "output_type": "stream",
          "text": [
            "Step: 1 \t Hello World!\n",
            "Step: 2 \t Hello World!\n",
            "Step: 3 \t Hello World!\n",
            "Step: 4 \t Hello World!\n",
            "Step: 5 \t Hello World!\n",
            "Step: 6 \t Hello World!\n",
            "Step: 7 \t 1\n",
            "Step: 8 \t 2\n",
            "Step: 9 \t 3\n",
            "Step: 10 \t 4\n",
            "Step: 11 \t 1\n",
            "Step: 12 \t 2\n",
            "Step: 13 \t 3\n",
            "Step: 14 \t 4\n"
          ]
        }
      ],
      "source": [
        "#Complex function complexity\n",
        "def complex_func (list):\n",
        "    count = 0\n",
        "    for i in range(6):\n",
        "        count += 1\n",
        "        print(\"Step: \" + str(count) + \" \\t Hello World!\")\n",
        "\n",
        "    for j in list:\n",
        "        count += 1\n",
        "        print(\"Step: \" + str(count) + \" \\t \" + str(j))\n",
        "\n",
        "    for k in list:\n",
        "        count += 1\n",
        "        print(\"Step: \" + str(count) + \" \\t \" + str(k))\n",
        "\n",
        "complex_func([1,2,3,4])"
      ]
    },
    {
      "cell_type": "markdown",
      "metadata": {
        "id": "kMGh36NQeeqT"
      },
      "source": [
        "## Complexity of algorithms with fundamental control structures\n",
        "\n",
        "### `if`-`elif`-`else`"
      ]
    },
    {
      "cell_type": "code",
      "execution_count": null,
      "metadata": {
        "id": "CDdaFyXkeeqT",
        "outputId": "94c7f259-a2e6-41d2-83fc-654541144351"
      },
      "outputs": [
        {
          "name": "stdout",
          "output_type": "stream",
          "text": [
            "b is less than a\n"
          ]
        }
      ],
      "source": [
        "#Complexity of if-elif-else statements\n",
        "a = 10\n",
        "b = 5\n",
        "if b > a:\n",
        "    print(\"b is greater than a\")\n",
        "\n",
        "elif b < a:\n",
        "    print(\"b is less than a\")\n",
        "\n",
        "else:\n",
        "    print(\"a and b are equal\")"
      ]
    },
    {
      "cell_type": "markdown",
      "metadata": {
        "id": "wRMD2kyreeqT"
      },
      "source": [
        "### `for` Loops"
      ]
    },
    {
      "cell_type": "code",
      "execution_count": null,
      "metadata": {
        "id": "jWNBYh-AeeqU",
        "outputId": "dbc0dfa6-8985-4d3d-d400-b888d5918036"
      },
      "outputs": [
        {
          "name": "stdout",
          "output_type": "stream",
          "text": [
            "apple\n",
            "mango\n",
            "orange\n",
            "banana\n",
            "pomegranate\n"
          ]
        }
      ],
      "source": [
        "#For loop\n",
        "fruits = [\"apple\", \"mango\", \"orange\", \"banana\", \"pomegranate\"]\n",
        "\n",
        "for x in fruits:\n",
        "    print(x)"
      ]
    },
    {
      "cell_type": "markdown",
      "metadata": {
        "id": "dA6zjaK0eeqU"
      },
      "source": [
        "### Nested `for` Loops"
      ]
    },
    {
      "cell_type": "code",
      "execution_count": null,
      "metadata": {
        "id": "uAuu2NrEeeqU",
        "outputId": "4e852631-4c42-403b-a79b-27f443855903"
      },
      "outputs": [
        {
          "name": "stdout",
          "output_type": "stream",
          "text": [
            "tasty apple\n",
            "tasty mango\n",
            "tasty orange\n",
            "tasty banana\n",
            "tasty pomegranate\n",
            "juicy apple\n",
            "juicy mango\n",
            "juicy orange\n",
            "juicy banana\n",
            "juicy pomegranate\n",
            "fresh apple\n",
            "fresh mango\n",
            "fresh orange\n",
            "fresh banana\n",
            "fresh pomegranate\n"
          ]
        }
      ],
      "source": [
        "#Nested for loop\n",
        "fruits = [\"apple\", \"mango\", \"orange\", \"banana\", \"pomegranate\"]\n",
        "adjectives = [\"tasty\", \"juicy\", \"fresh\"]\n",
        "\n",
        "for y in adjectives:\n",
        "    for x in fruits:\n",
        "        print(y, x)"
      ]
    },
    {
      "cell_type": "markdown",
      "metadata": {
        "id": "_8gyYlmveeqU"
      },
      "source": [
        "### `while` Loops"
      ]
    },
    {
      "cell_type": "code",
      "execution_count": null,
      "metadata": {
        "id": "VIhpo-OZeeqU",
        "outputId": "3aa3b345-7956-42c6-ef2e-c49042c5ac1a"
      },
      "outputs": [
        {
          "name": "stdout",
          "output_type": "stream",
          "text": [
            "Step: 1 The condition is satisfied\n",
            "Step: 2 The condition is satisfied\n",
            "Step: 3 The condition is satisfied\n",
            "Step: 4 The condition is satisfied\n",
            "Step: 5 The condition is satisfied\n",
            "Step: 6 The condition is satisfied\n",
            "Step: 7 The condition is satisfied\n",
            "Step: 8 The condition is satisfied\n",
            "Step: 9 The condition is satisfied\n"
          ]
        }
      ],
      "source": [
        "#While loop\n",
        "i = 1\n",
        "while i < 10:\n",
        "    print(\"Step: \" + str(i) + \" The condition is satisfied\")\n",
        "    i += 1"
      ]
    },
    {
      "cell_type": "markdown",
      "metadata": {
        "id": "ltQb8EfceeqV"
      },
      "source": [
        "## Complexity of common search algorithms\n",
        "\n",
        "### Linear search algorithm"
      ]
    },
    {
      "cell_type": "code",
      "execution_count": null,
      "metadata": {
        "id": "rlrO9DwKeeqV",
        "outputId": "08eb2d0d-2bea-4795-f476-241b096ca08a"
      },
      "outputs": [
        {
          "name": "stdin",
          "output_type": "stream",
          "text": [
            "Please input a number of your choice:  5\n"
          ]
        },
        {
          "name": "stdout",
          "output_type": "stream",
          "text": [
            "False \n",
            "False \n",
            "False \n",
            "False \n",
            "True \n",
            "False \n",
            "False \n",
            "False \n"
          ]
        }
      ],
      "source": [
        "def linear_search(input):\n",
        "    lists = [1, 2, 3, 4, 5, 6, 7, 8]\n",
        "    number = int(input)\n",
        "\n",
        "    for i in range(len(lists)):\n",
        "        if lists[i] == number:\n",
        "            print(\"True\", end=' ')\n",
        "\n",
        "        else:\n",
        "            print(\"False\", end=' ')\n",
        "\n",
        "        print()\n",
        "\n",
        "INPUT = input(\"Please input a number of your choice: \")\n",
        "linear_search(INPUT)"
      ]
    },
    {
      "cell_type": "markdown",
      "metadata": {
        "id": "tP5sn08HeeqV"
      },
      "source": [
        "### Binary search algorithm"
      ]
    },
    {
      "cell_type": "code",
      "execution_count": null,
      "metadata": {
        "id": "hMGj2KLpeeqV",
        "outputId": "7f0f1752-6f8d-4173-fb20-cb99b4da4e3b"
      },
      "outputs": [
        {
          "name": "stdout",
          "output_type": "stream",
          "text": [
            "Target element is present at index 9 of the list\n"
          ]
        }
      ],
      "source": [
        "# Returns index of target (x) if present in the list\n",
        "def binary_search(list, l, r, target_value):\n",
        "    # Check base case\n",
        "    if r >= l:\n",
        "        mid_index = l + (r - l) // 2\n",
        "\n",
        "        # If target element matches with the mid-element of the list\n",
        "        if list[mid_index] == target_value:\n",
        "            return mid_index\n",
        "\n",
        "        # If element is smaller than mid-element, then it can only be present in the left sublist\n",
        "        elif list[mid_index] > target_value:\n",
        "            return binary_search(list, l, mid_index - 1, target_value)\n",
        "\n",
        "        # Else the element can only be present in the right sub-list\n",
        "        else:\n",
        "            return binary_search(list, mid_index + 1, r, target_value)\n",
        "\n",
        "    else:\n",
        "        # Element is not present in the array\n",
        "        return -1\n",
        "\n",
        "# Test list\n",
        "list = [10, 20, 30, 40, 50, 60, 70, 80, 90, 100]\n",
        "target_value = 100\n",
        "\n",
        "# Function call\n",
        "result = binary_search(list, 0, len(list) - 1, target_value)\n",
        "\n",
        "if result != -1:\n",
        "    print(\"Target element is present at index \" + str(result) + \" of the list\")\n",
        "\n",
        "else:\n",
        "    print(\"Target element is not present in list\")"
      ]
    }
  ],
  "metadata": {
    "kernelspec": {
      "display_name": "Python 3",
      "name": "python3"
    },
    "language_info": {
      "name": "python"
    },
    "colab": {
      "provenance": []
    }
  },
  "nbformat": 4,
  "nbformat_minor": 0
}